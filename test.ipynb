{
 "cells": [
  {
   "cell_type": "code",
   "execution_count": 1,
   "metadata": {},
   "outputs": [],
   "source": [
    "import pandas"
   ]
  },
  {
   "cell_type": "code",
   "execution_count": 2,
   "metadata": {},
   "outputs": [
    {
     "name": "stderr",
     "output_type": "stream",
     "text": [
      "/var/folders/4_/7r1mgt0x58d2_4c2zdtwcx_40000gn/T/ipykernel_17493/2814342197.py:1: DtypeWarning: Columns (0,1,2,3,4,5,6,7,8,9,17,18,24,25,26,27,28,31,32,33,34,35,36,37,38,39,40,41,42,43,44,45,46,47,48,49,50,51,52,53,54,55) have mixed types. Specify dtype option on import or set low_memory=False.\n",
      "  df = pandas.read_csv('./data_coba_plot/pk-a1_results.csv')\n"
     ]
    }
   ],
   "source": [
    "df = pandas.read_csv('./data_coba_plot/pk-a1_results.csv')"
   ]
  },
  {
   "cell_type": "code",
   "execution_count": 3,
   "metadata": {},
   "outputs": [
    {
     "name": "stdout",
     "output_type": "stream",
     "text": [
      "<class 'pandas.core.frame.DataFrame'>\n",
      "RangeIndex: 27528 entries, 0 to 27527\n",
      "Data columns (total 56 columns):\n",
      " #   Column         Non-Null Count  Dtype  \n",
      "---  ------         --------------  -----  \n",
      " 0   DEPTH          27528 non-null  object \n",
      " 1   CARBONATE      27528 non-null  object \n",
      " 2   CHECK_VOL_U    27528 non-null  object \n",
      " 3   CHECK_VOL_X    27528 non-null  object \n",
      " 4   COAL           27528 non-null  object \n",
      " 5   CT             27528 non-null  object \n",
      " 6   CT_PRED        27528 non-null  object \n",
      " 7   CXO            27528 non-null  object \n",
      " 8   CXO_PRED       27528 non-null  object \n",
      " 9   DT             27528 non-null  object \n",
      " 10  FACIES         5554 non-null   object \n",
      " 11  FCOLOR_CPL     5554 non-null   object \n",
      " 12  FLAG_BADHOLE   27527 non-null  float64\n",
      " 13  FLAG_SALINITY  27527 non-null  float64\n",
      " 14  FLCOLOR_CPL    5554 non-null   object \n",
      " 15  FLUID          5554 non-null   object \n",
      " 16  FLUID_CODE     27527 non-null  float64\n",
      " 17  GR             27528 non-null  object \n",
      " 18  GR_PRED        27528 non-null  object \n",
      " 19  IQUAL          27527 non-null  float64\n",
      " 20  IQUALCOLOR     5554 non-null   object \n",
      " 21  LAUQI          27527 non-null  float64\n",
      " 22  LITHO          5974 non-null   object \n",
      " 23  LITHO_CODE     27527 non-null  float64\n",
      " 24  NPHI           27528 non-null  object \n",
      " 25  NPHI_PRED      27528 non-null  object \n",
      " 26  ORGANIC_SHALE  27528 non-null  object \n",
      " 27  PHIE           27528 non-null  object \n",
      " 28  PHIT           27528 non-null  object \n",
      " 29  QCOLOR_CPL     5554 non-null   object \n",
      " 30  RES_NAME       5954 non-null   object \n",
      " 31  RHOB           27528 non-null  object \n",
      " 32  RHOB_PRED      27528 non-null  object \n",
      " 33  RHOG           27528 non-null  object \n",
      " 34  RT             27528 non-null  object \n",
      " 35  RXO            27528 non-null  object \n",
      " 36  SWE            27528 non-null  object \n",
      " 37  SWE100         27528 non-null  object \n",
      " 38  SWT            27528 non-null  object \n",
      " 39  SWT_BND        27528 non-null  object \n",
      " 40  TG             27528 non-null  object \n",
      " 41  TVDSS          27528 non-null  object \n",
      " 42  VOL_CALCITE    27528 non-null  object \n",
      " 43  VOL_GYPSUM     27528 non-null  object \n",
      " 44  VOL_ILLITE     27528 non-null  object \n",
      " 45  VOL_KAOLIN     27528 non-null  object \n",
      " 46  VOL_QUARTZ     27528 non-null  object \n",
      " 47  VOL_UBNDWAT    27528 non-null  object \n",
      " 48  VOL_UGAS       27528 non-null  object \n",
      " 49  VOL_UOIL       27528 non-null  object \n",
      " 50  VOL_UWAT       27528 non-null  object \n",
      " 51  VOL_WETCLAY    27528 non-null  object \n",
      " 52  VOL_XBNDWAT    27528 non-null  object \n",
      " 53  VOL_XGAS       27528 non-null  object \n",
      " 54  VOL_XOIL       27528 non-null  object \n",
      " 55  VOL_XWAT       27528 non-null  object \n",
      "dtypes: float64(6), object(50)\n",
      "memory usage: 11.8+ MB\n"
     ]
    }
   ],
   "source": [
    "df.info()"
   ]
  },
  {
   "cell_type": "code",
   "execution_count": 7,
   "metadata": {},
   "outputs": [],
   "source": [
    "df = df.drop(df.index[0])\n",
    "df['RHOB'] = df['RHOB'].astype(float)\n",
    "filtered_df = df[df['RHOB'] != -999.25]\n",
    "filtered_df = filtered_df[['TVDSS', 'RHOB']]"
   ]
  },
  {
   "cell_type": "code",
   "execution_count": 8,
   "metadata": {},
   "outputs": [
    {
     "name": "stdout",
     "output_type": "stream",
     "text": [
      "<class 'pandas.core.frame.DataFrame'>\n",
      "Index: 17932 entries, 9375 to 27306\n",
      "Data columns (total 2 columns):\n",
      " #   Column  Non-Null Count  Dtype  \n",
      "---  ------  --------------  -----  \n",
      " 0   TVDSS   17932 non-null  object \n",
      " 1   RHOB    17932 non-null  float64\n",
      "dtypes: float64(1), object(1)\n",
      "memory usage: 420.3+ KB\n"
     ]
    }
   ],
   "source": [
    "filtered_df.info()"
   ]
  },
  {
   "cell_type": "code",
   "execution_count": 9,
   "metadata": {},
   "outputs": [],
   "source": [
    "filtered_df.to_csv('./data_coba_plot/pk-a1_results-coba.csv', index=False)"
   ]
  },
  {
   "cell_type": "code",
   "execution_count": null,
   "metadata": {},
   "outputs": [],
   "source": []
  }
 ],
 "metadata": {
  "kernelspec": {
   "display_name": "HAT",
   "language": "python",
   "name": "python3"
  },
  "language_info": {
   "codemirror_mode": {
    "name": "ipython",
    "version": 3
   },
   "file_extension": ".py",
   "mimetype": "text/x-python",
   "name": "python",
   "nbconvert_exporter": "python",
   "pygments_lexer": "ipython3",
   "version": "3.11.7"
  }
 },
 "nbformat": 4,
 "nbformat_minor": 2
}
